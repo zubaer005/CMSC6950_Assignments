{
 "cells": [
  {
   "cell_type": "markdown",
   "metadata": {},
   "source": [
    "# Assignment 7 - Numpy and Matplotlib\n",
    "### Due Thursday, June 3, 2021\n",
    "\n",
    "Your assignment should be handed in as an iPython/Jupyter notebook checked into your private GitHub repository `CMSC6950_Assignments` with the filename `Assignment_7.ipynb`. \n",
    "\n",
    "## 1 Plotting and analyzing ARGO float data\n",
    "\n",
    "#### 1.1 Import numpy\n"
   ]
  },
  {
   "cell_type": "code",
   "execution_count": 8,
   "metadata": {},
   "outputs": [],
   "source": [
    "import numpy as np"
   ]
  },
  {
   "cell_type": "markdown",
   "metadata": {},
   "source": [
    "\n",
    "#### 1.2 Use the shell command `wget` to download an example ARGO float profile from the North Atlantic.\n",
    "The data file's url is http://www.ldeo.columbia.edu/~rpa/argo_float_4901412.npz"
   ]
  },
  {
   "cell_type": "markdown",
   "metadata": {},
   "source": [
    "(you can have bash command inside a Jupyter cell if they start with a `!` )"
   ]
  },
  {
   "cell_type": "code",
   "execution_count": 2,
   "metadata": {},
   "outputs": [
    {
     "name": "stdout",
     "output_type": "stream",
     "text": [
      "--2021-06-03 04:54:18--  http://www.ldeo.columbia.edu/~rpa/argo_float_4901412.npz\n",
      "Resolving www.ldeo.columbia.edu (www.ldeo.columbia.edu)... 129.236.14.15\n",
      "Connecting to www.ldeo.columbia.edu (www.ldeo.columbia.edu)|129.236.14.15|:80... connected.\n",
      "HTTP request sent, awaiting response... 302 Found\n",
      "Location: https://www.ldeo.columbia.edu/~rpa/argo_float_4901412.npz [following]\n",
      "--2021-06-03 04:54:18--  https://www.ldeo.columbia.edu/~rpa/argo_float_4901412.npz\n",
      "Connecting to www.ldeo.columbia.edu (www.ldeo.columbia.edu)|129.236.14.15|:443... connected.\n",
      "HTTP request sent, awaiting response... 416 Requested Range Not Satisfiable\n",
      "\n",
      "    The file is already fully retrieved; nothing to do.\n",
      "\n"
     ]
    }
   ],
   "source": [
    "!wget -c http://www.ldeo.columbia.edu/~rpa/argo_float_4901412.npz"
   ]
  },
  {
   "cell_type": "markdown",
   "metadata": {},
   "source": [
    "#### 1.3 Load the data file"
   ]
  },
  {
   "cell_type": "code",
   "execution_count": 2,
   "metadata": {},
   "outputs": [
    {
     "data": {
      "text/plain": [
       "KeysView(<numpy.lib.npyio.NpzFile object at 0x7f5de80f69b0>)"
      ]
     },
     "execution_count": 2,
     "metadata": {},
     "output_type": "execute_result"
    }
   ],
   "source": [
    "data = np.load('argo_float_4901412.npz')\n",
    "data.keys()"
   ]
  },
  {
   "cell_type": "markdown",
   "metadata": {},
   "source": [
    "#### 1.4 Extract the temperature, pressure and salinity arrays to arrays T, S, P and mask out invalid data (the nan values from missing points)."
   ]
  },
  {
   "cell_type": "code",
   "execution_count": 3,
   "metadata": {},
   "outputs": [
    {
     "data": {
      "text/plain": [
       "['S', 'T', 'levels', 'lon', 'date', 'P', 'lat']"
      ]
     },
     "execution_count": 3,
     "metadata": {},
     "output_type": "execute_result"
    }
   ],
   "source": [
    "list(data.keys())"
   ]
  },
  {
   "cell_type": "markdown",
   "metadata": {},
   "source": [
    "#### 1.5 Extract the date, lat, lon, and levels arrays. "
   ]
  },
  {
   "cell_type": "code",
   "execution_count": 4,
   "metadata": {},
   "outputs": [
    {
     "data": {
      "text/plain": [
       "array(['2012-07-13T22:33:06.019200000', '2012-07-23T22:54:59.990400000',\n",
       "       '2012-08-02T22:55:52.003200000', '2012-08-12T23:08:59.971200000',\n",
       "       '2012-08-22T23:29:01.968000000', '2012-09-01T23:17:38.976000000',\n",
       "       '2012-09-12T02:59:18.960000000', '2012-09-21T23:18:37.036800000',\n",
       "       '2012-10-02T03:00:17.971200000', '2012-10-11T23:13:27.984000000',\n",
       "       '2012-10-22T02:50:32.006400000', '2012-10-31T23:36:39.974400000',\n",
       "       '2012-11-11T02:40:46.041600000', '2012-11-20T23:08:29.990400000',\n",
       "       '2012-12-01T02:47:51.993600000', '2012-12-10T23:23:16.972800000',\n",
       "       '2012-12-21T02:58:48.979200000', '2012-12-30T23:07:23.030400000',\n",
       "       '2013-01-10T02:56:43.008000000', '2013-01-19T23:24:26.956800000',\n",
       "       '2013-01-30T02:43:53.011200000', '2013-02-08T23:15:27.043200000',\n",
       "       '2013-02-19T01:12:50.976000000', '2013-02-28T23:07:13.008000000',\n",
       "       '2013-03-11T02:43:30.979200000', '2013-03-20T23:17:22.992000000',\n",
       "       '2013-03-31T01:50:38.025600000', '2013-04-09T23:19:07.968000000',\n",
       "       '2013-04-20T02:53:29.990400000', '2013-04-29T23:28:33.024000000',\n",
       "       '2013-05-10T02:50:18.009600000', '2013-05-19T23:21:05.990400000',\n",
       "       '2013-05-30T02:50:30.969600000', '2013-06-08T23:32:49.027200000',\n",
       "       '2013-06-19T03:42:51.004800000', '2013-06-28T23:32:16.022400000',\n",
       "       '2013-07-09T03:28:30.979199999', '2013-07-18T23:33:57.974400000',\n",
       "       '2013-07-29T03:15:42.019200000', '2013-08-07T23:25:02.035200000',\n",
       "       '2013-08-18T01:47:44.966400000', '2013-08-28T03:02:59.020800000',\n",
       "       '2013-09-07T03:03:51.984000000', '2013-09-16T23:32:07.987200000',\n",
       "       '2013-09-27T04:08:27.974400000', '2013-10-06T23:25:39.964800000',\n",
       "       '2013-10-17T02:55:50.995200000', '2013-10-27T03:45:47.001600000',\n",
       "       '2013-11-06T01:14:52.022400000', '2013-11-16T03:29:54.009600000',\n",
       "       '2013-11-26T03:03:56.995200000', '2013-12-05T23:33:59.011200000',\n",
       "       '2013-12-16T02:58:01.977600000', '2013-12-25T23:22:43.017600000',\n",
       "       '2014-01-05T02:52:06.009600000', '2014-01-14T23:41:18.009600000',\n",
       "       '2014-01-25T03:00:43.977600000', '2014-02-03T23:29:13.977600000',\n",
       "       '2014-02-14T02:50:11.961600000', '2014-02-23T23:03:21.974400000',\n",
       "       '2014-03-06T02:58:03.964800000', '2014-03-15T23:10:28.012800000',\n",
       "       '2014-03-26T02:51:22.032000000', '2014-04-04T23:25:58.972800000',\n",
       "       '2014-04-15T03:00:45.964800000', '2014-04-24T23:24:40.003200000',\n",
       "       '2014-05-05T02:56:22.012800000', '2014-05-15T00:10:06.009600000',\n",
       "       '2014-05-25T03:02:43.036800000', '2014-06-03T23:34:53.961600000',\n",
       "       '2014-06-14T03:01:23.980800000', '2014-06-23T23:24:31.968000000',\n",
       "       '2014-07-04T03:08:30.019200000', '2014-07-13T23:47:43.008000000',\n",
       "       '2014-07-24T03:02:33.014400000'], dtype='datetime64[ns]')"
      ]
     },
     "execution_count": 4,
     "metadata": {},
     "output_type": "execute_result"
    }
   ],
   "source": [
    "date = data['date']\n",
    "lat =data['lat']\n",
    "lon = data['lon']\n",
    "date"
   ]
  },
  {
   "cell_type": "markdown",
   "metadata": {},
   "source": [
    "#### 1.5 Note the shapes of T, S and P compared to these arrays. How do they line up?"
   ]
  },
  {
   "cell_type": "code",
   "execution_count": 13,
   "metadata": {},
   "outputs": [
    {
     "data": {
      "text/plain": [
       "array([[   6.80000019,    6.0999999 ,    6.5       , ...,    7.0999999 ,\n",
       "           7.20000029,    6.5       ],\n",
       "       [  10.69999981,   10.59999943,   10.39999962, ...,   10.79999924,\n",
       "          11.09999943,   10.39999962],\n",
       "       [  15.69999981,   14.09999943,   14.89999962, ...,   15.89999962,\n",
       "          15.59999943,   15.89999962],\n",
       "       ...,\n",
       "       [1900.60009766, 1900.        , 1900.19995117, ..., 1899.70007324,\n",
       "        1900.40002441, 1899.80004883],\n",
       "       [1949.90002441, 1950.        , 1949.89990234, ..., 1950.59997559,\n",
       "        1950.20007324, 1949.70007324],\n",
       "       [1999.30004883, 1998.        , 1998.5       , ...,           nan,\n",
       "        2000.40002441,           nan]])"
      ]
     },
     "execution_count": 13,
     "metadata": {},
     "output_type": "execute_result"
    }
   ],
   "source": [
    "T= data['T']\n",
    "T\n",
    "S = data['S']\n",
    "P =  data['P']\n",
    "P"
   ]
  },
  {
   "cell_type": "markdown",
   "metadata": {},
   "source": [
    "#### 1.6 Load the necessary package for plotting using pyplot from matplotlib."
   ]
  },
  {
   "cell_type": "code",
   "execution_count": 9,
   "metadata": {},
   "outputs": [],
   "source": [
    "from matplotlib import pyplot as plt\n",
    "%matplotlib inline"
   ]
  },
  {
   "cell_type": "markdown",
   "metadata": {},
   "source": [
    "#### 1.7 Make a 1 x 3 array of plots for each column of data in T, S and P. \n",
    "The vertical scale should be the `levels` data. Flip the veritcal axis direction so that levels increase downward on the plot. Each plot should have a line for each column of data. It will look messy.  Make sure you label the axes and put a title on each subplot."
   ]
  },
  {
   "cell_type": "code",
   "execution_count": 21,
   "metadata": {},
   "outputs": [
    {
     "data": {
      "text/plain": [
       "array([[[  18.97400093,   18.43700027,   19.09900093, ...,\n",
       "           19.11300087,   21.82299995,   20.13100052],\n",
       "        [  18.74099922,   18.39999962,   19.08200073, ...,\n",
       "           18.47200012,   19.45999908,   20.125     ],\n",
       "        [  18.37000084,   18.37400055,   19.06500053, ...,\n",
       "           18.22999954,   19.26199913,   20.07699966],\n",
       "        ...,\n",
       "        [   3.79299998,    3.81399989,    3.80200005, ...,\n",
       "            3.80699992,    3.81100011,    3.8599999 ],\n",
       "        [   3.76399994,    3.77800012,    3.75699997, ...,\n",
       "            3.75399995,    3.74600005,    3.80599999],\n",
       "        [   3.74399996,    3.74600005,    3.7249999 , ...,\n",
       "                   nan,    3.71399999,           nan]],\n",
       "\n",
       "       [[  35.6389389 ,   35.51495743,   35.57297134, ...,\n",
       "           35.82093811,   35.77793884,   35.66891098],\n",
       "        [  35.63393784,   35.5219574 ,   35.57397079, ...,\n",
       "           35.81093216,   35.58389664,   35.66791153],\n",
       "        [  35.6819458 ,   35.52595901,   35.57297134, ...,\n",
       "           35.79592896,   35.66290665,   35.66591263],\n",
       "        ...,\n",
       "        [  34.91585922,   34.92390442,   34.92390442, ...,\n",
       "           34.93481064,   34.94081116,   34.94680786],\n",
       "        [  34.91585922,   34.92390442,   34.92190552, ...,\n",
       "           34.93280792,   34.93680954,   34.94380951],\n",
       "        [  34.91785812,   34.92390442,   34.92390442, ...,\n",
       "                   nan,   34.93680954,           nan]],\n",
       "\n",
       "       [[   6.80000019,    6.0999999 ,    6.5       , ...,\n",
       "            7.0999999 ,    7.20000029,    6.5       ],\n",
       "        [  10.69999981,   10.59999943,   10.39999962, ...,\n",
       "           10.79999924,   11.09999943,   10.39999962],\n",
       "        [  15.69999981,   14.09999943,   14.89999962, ...,\n",
       "           15.89999962,   15.59999943,   15.89999962],\n",
       "        ...,\n",
       "        [1900.60009766, 1900.        , 1900.19995117, ...,\n",
       "         1899.70007324, 1900.40002441, 1899.80004883],\n",
       "        [1949.90002441, 1950.        , 1949.89990234, ...,\n",
       "         1950.59997559, 1950.20007324, 1949.70007324],\n",
       "        [1999.30004883, 1998.        , 1998.5       , ...,\n",
       "                   nan, 2000.40002441,           nan]]])"
      ]
     },
     "execution_count": 21,
     "metadata": {},
     "output_type": "execute_result"
    }
   ],
   "source": [
    "a = np.array([T,S,P])\n",
    "a"
   ]
  },
  {
   "cell_type": "markdown",
   "metadata": {},
   "source": [
    "#### 1.8 Compute the mean and standard deviation of each of T, S and P at each depth in `levels`."
   ]
  },
  {
   "cell_type": "code",
   "execution_count": 28,
   "metadata": {},
   "outputs": [
    {
     "data": {
      "text/plain": [
       "masked_array(data=[--, --, 3, 4, 5],\n",
       "             mask=[ True,  True, False, False, False],\n",
       "       fill_value=999999)"
      ]
     },
     "execution_count": 28,
     "metadata": {},
     "output_type": "execute_result"
    }
   ],
   "source": [
    "ar_w_mask = np.ma.masked_array([1, 2, 3, 4, 5],\n",
    "                        mask=[True, True, False, False, False])\n",
    "ar_w_mask"
   ]
  },
  {
   "cell_type": "code",
   "execution_count": 29,
   "metadata": {},
   "outputs": [
    {
     "data": {
      "text/plain": [
       "4.0"
      ]
     },
     "execution_count": 29,
     "metadata": {},
     "output_type": "execute_result"
    }
   ],
   "source": [
    "ar_w_mask.mean()"
   ]
  },
  {
   "cell_type": "code",
   "execution_count": 44,
   "metadata": {},
   "outputs": [
    {
     "data": {
      "text/plain": [
       "masked_array(\n",
       "  data=[[18.974000930786133, 18.437000274658203, 19.099000930786133, ...,\n",
       "         19.113000869750977, 21.822999954223633, 20.131000518798828],\n",
       "        [18.740999221801758, 18.399999618530273, 19.082000732421875, ...,\n",
       "         18.472000122070312, 19.459999084472656, 20.125],\n",
       "        [18.3700008392334, 18.374000549316406, 19.065000534057617, ...,\n",
       "         18.229999542236328, 19.261999130249023, 20.07699966430664],\n",
       "        ...,\n",
       "        [3.7929999828338623, 3.813999891281128, 3.802000045776367, ...,\n",
       "         3.806999921798706, 3.811000108718872, 3.859999895095825],\n",
       "        [3.7639999389648438, 3.7780001163482666, 3.756999969482422, ...,\n",
       "         3.753999948501587, 3.746000051498413, 3.805999994277954],\n",
       "        [3.74399995803833, 3.746000051498413, 3.7249999046325684, ...,\n",
       "         --, 3.7139999866485596, --]],\n",
       "  mask=[[False, False, False, ..., False, False, False],\n",
       "        [False, False, False, ..., False, False, False],\n",
       "        [False, False, False, ..., False, False, False],\n",
       "        ...,\n",
       "        [False, False, False, ..., False, False, False],\n",
       "        [False, False, False, ..., False, False, False],\n",
       "        [False, False, False, ...,  True, False,  True]],\n",
       "  fill_value=1e+20)"
      ]
     },
     "execution_count": 44,
     "metadata": {},
     "output_type": "execute_result"
    }
   ],
   "source": [
    "T_ma = np.ma.masked_invalid(T)\n",
    "T_ma.mean()\n"
   ]
  },
  {
   "cell_type": "code",
   "execution_count": 40,
   "metadata": {},
   "outputs": [
    {
     "data": {
      "text/plain": [
       "35.53375800851532"
      ]
     },
     "execution_count": 40,
     "metadata": {},
     "output_type": "execute_result"
    }
   ],
   "source": [
    "S_ma = np.ma.masked_invalid(S)\n",
    "S_ma.mean()"
   ]
  },
  {
   "cell_type": "code",
   "execution_count": 39,
   "metadata": {},
   "outputs": [
    {
     "data": {
      "text/plain": [
       "617.7636946613931"
      ]
     },
     "execution_count": 39,
     "metadata": {},
     "output_type": "execute_result"
    }
   ],
   "source": [
    "P_ma = np.ma.masked_invalid(P)\n",
    "P_ma.mean()"
   ]
  },
  {
   "cell_type": "code",
   "execution_count": 33,
   "metadata": {},
   "outputs": [
    {
     "data": {
      "text/plain": [
       "4.660526903885564"
      ]
     },
     "execution_count": 33,
     "metadata": {},
     "output_type": "execute_result"
    }
   ],
   "source": [
    "T_std= T_ma.std()\n",
    "T_std"
   ]
  },
  {
   "cell_type": "code",
   "execution_count": 42,
   "metadata": {},
   "outputs": [],
   "source": [
    "S_std= S_ma.std()\n",
    "P_std= P_ma.std()"
   ]
  },
  {
   "cell_type": "code",
   "execution_count": null,
   "metadata": {},
   "outputs": [],
   "source": [
    "T = np.ma.masked_invalid(data['T'])\n",
    "S = np.ma.masked_invalid(data['S'])\n",
    "P = np.ma.masked_invalid(data['P'])\n",
    "P.max()"
   ]
  },
  {
   "cell_type": "markdown",
   "metadata": {},
   "source": [
    "#### 1.9 Now make a similar plot, but show only the mean T, S and P at each depth. Show error bars on each plot using the standard deviations. \n",
    " Again, make sure you label the axes and put a title on each subplot."
   ]
  },
  {
   "cell_type": "code",
   "execution_count": null,
   "metadata": {},
   "outputs": [],
   "source": [
    "plt.scatter(S, T, P)\n",
    "plt.grid()\n",
    "plt.colorbar()"
   ]
  },
  {
   "cell_type": "markdown",
   "metadata": {},
   "source": [
    "#### 1.10  Compute the mean and standard deviation of each of T, S and P for each time in `date`."
   ]
  },
  {
   "cell_type": "code",
   "execution_count": null,
   "metadata": {},
   "outputs": [],
   "source": []
  },
  {
   "cell_type": "markdown",
   "metadata": {},
   "source": [
    "#### 1.11 Plot the mean T, S and P for each entry in *time*, now on a *3 x 1* subplot grid with time on the horizontal axis. Show error bars on each plot using the standard deviations."
   ]
  },
  {
   "cell_type": "code",
   "execution_count": null,
   "metadata": {},
   "outputs": [],
   "source": []
  },
  {
   "cell_type": "markdown",
   "metadata": {},
   "source": [
    "#### 1.12 Create a scatter plot of the positions of the ARGO float data.  Color the positions by the date. Add a grid overlay. \n",
    "Don't forget to label the axes!"
   ]
  },
  {
   "cell_type": "code",
   "execution_count": null,
   "metadata": {},
   "outputs": [],
   "source": []
  },
  {
   "cell_type": "markdown",
   "metadata": {},
   "source": [
    "## 2 Matrix  multiplication\n",
    "#### 2.1 Create a function called myMatrixMultiply that takes input matrices X and Y and computes their matrix product. \n",
    "\n",
    "*Matrix Multiplication.* In this exercise you will create two square matrices $A$ and $B$ with dimensions $n \\times n$. You will then use [matrix multiplication](https://en.wikipedia.org/wiki/Matrix_multiplication) to compute their product with the results being stored in matrix $C$. Thus, you will be computing the matrix equation $C = AB$. Note that matrix multiplication is different from element by element array multiplication. See the [wikipedia page](https://en.wikipedia.org/wiki/Matrix_multiplication) if you are unsure what matrix multiplication is.\n",
    "\n",
    "Use three nested `for` loops to *explicitly* perform the matrix multiplication. The inner most loop calculates element `C[i,j]` which is equal to the sum of `A[i,k]*B[k,j]` over all values of index `k` from `0` to `n-1`. The two outer loops iterate over `i` and `j`."
   ]
  },
  {
   "cell_type": "code",
   "execution_count": null,
   "metadata": {},
   "outputs": [],
   "source": [
    "           "
   ]
  },
  {
   "cell_type": "markdown",
   "metadata": {},
   "source": [
    "#### 2.2 Create ones() square matrices for A and B with n = 100. Use the `%timeit` function to compute the matrix product AB using your function `myMatrixMultiply`."
   ]
  },
  {
   "cell_type": "code",
   "execution_count": null,
   "metadata": {},
   "outputs": [],
   "source": []
  },
  {
   "cell_type": "markdown",
   "metadata": {},
   "source": [
    "#### 2.3 Now let's see how much faster Numpy's built in matrix multiplication routine is. \n",
    "In Numpy, matrix multiplication is done using the `dot()` function. Use the `%timeit` function to compute the matrix product AB for n = 100 using `dot()` and time it using the `%timeit` function.\n",
    "\n",
    "How much faster is using NumPy's `dot()` compared your `myMatrixMultiply` function? "
   ]
  },
  {
   "cell_type": "code",
   "execution_count": null,
   "metadata": {},
   "outputs": [],
   "source": []
  },
  {
   "cell_type": "markdown",
   "metadata": {},
   "source": [
    "Now time how long the NumPy `dot()` version takes for n = 1000"
   ]
  },
  {
   "cell_type": "code",
   "execution_count": null,
   "metadata": {},
   "outputs": [],
   "source": []
  },
  {
   "cell_type": "markdown",
   "metadata": {},
   "source": [
    "And, finally, measure NumPy's `dot()` for n = 10000 (be patient, and defintely don't try this with `myMatrixMultiply` !)"
   ]
  },
  {
   "cell_type": "code",
   "execution_count": null,
   "metadata": {},
   "outputs": [],
   "source": []
  },
  {
   "cell_type": "markdown",
   "metadata": {},
   "source": [
    "Your results should demonstrate to you that the run time for matrix-matrix multiplication scales as a power law of `n`.\n",
    "\n",
    "Assuming that the run time of `myMatrixMultiply` is proportional to the cube of `n`, approximately how long would you expect the run time to be for n=10000 in the original Python version?\n"
   ]
  },
  {
   "cell_type": "code",
   "execution_count": null,
   "metadata": {},
   "outputs": [],
   "source": []
  },
  {
   "cell_type": "markdown",
   "metadata": {},
   "source": [
    "NumPy allows you to do computations that would be way to slow with only Python statements."
   ]
  }
 ],
 "metadata": {
  "kernelspec": {
   "display_name": "Python 3",
   "language": "python",
   "name": "python3"
  },
  "language_info": {
   "codemirror_mode": {
    "name": "ipython",
    "version": 3
   },
   "file_extension": ".py",
   "mimetype": "text/x-python",
   "name": "python",
   "nbconvert_exporter": "python",
   "pygments_lexer": "ipython3",
   "version": "3.7.3"
  }
 },
 "nbformat": 4,
 "nbformat_minor": 4
}
