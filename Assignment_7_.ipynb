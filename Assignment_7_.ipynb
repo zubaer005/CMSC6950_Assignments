{
 "cells": [
  {
   "cell_type": "markdown",
   "metadata": {},
   "source": [
    "# Assignment 7 - Numpy and Matplotlib\n",
    "### Due Thursday, June 3, 2021\n",
    "\n",
    "Your assignment should be handed in as an iPython/Jupyter notebook checked into your private GitHub repository `CMSC6950_Assignments` with the filename `Assignment_7.ipynb`. \n",
    "\n",
    "## 1 Plotting and analyzing ARGO float data\n",
    "\n",
    "#### 1.1 Import numpy\n"
   ]
  },
  {
   "cell_type": "code",
   "execution_count": null,
   "metadata": {},
   "outputs": [],
   "source": [
    "import numpy as np"
   ]
  },
  {
   "cell_type": "markdown",
   "metadata": {},
   "source": [
    "\n",
    "#### 1.2 Use the shell command `wget` to download an example ARGO float profile from the North Atlantic.\n",
    "The data file's url is http://www.ldeo.columbia.edu/~rpa/argo_float_4901412.npz"
   ]
  },
  {
   "cell_type": "markdown",
   "metadata": {},
   "source": [
    "(you can have bash command inside a Jupyter cell if they start with a `!` )"
   ]
  },
  {
   "cell_type": "code",
   "execution_count": 2,
   "metadata": {},
   "outputs": [
    {
     "name": "stdout",
     "output_type": "stream",
     "text": [
      "--2021-06-03 04:54:18--  http://www.ldeo.columbia.edu/~rpa/argo_float_4901412.npz\n",
      "Resolving www.ldeo.columbia.edu (www.ldeo.columbia.edu)... 129.236.14.15\n",
      "Connecting to www.ldeo.columbia.edu (www.ldeo.columbia.edu)|129.236.14.15|:80... connected.\n",
      "HTTP request sent, awaiting response... 302 Found\n",
      "Location: https://www.ldeo.columbia.edu/~rpa/argo_float_4901412.npz [following]\n",
      "--2021-06-03 04:54:18--  https://www.ldeo.columbia.edu/~rpa/argo_float_4901412.npz\n",
      "Connecting to www.ldeo.columbia.edu (www.ldeo.columbia.edu)|129.236.14.15|:443... connected.\n",
      "HTTP request sent, awaiting response... 416 Requested Range Not Satisfiable\n",
      "\n",
      "    The file is already fully retrieved; nothing to do.\n",
      "\n"
     ]
    }
   ],
   "source": [
    "!wget -c http://www.ldeo.columbia.edu/~rpa/argo_float_4901412.npz"
   ]
  },
  {
   "cell_type": "markdown",
   "metadata": {},
   "source": [
    "#### 1.3 Load the data file"
   ]
  },
  {
   "cell_type": "code",
   "execution_count": null,
   "metadata": {},
   "outputs": [],
   "source": [
    "data = np.load('argo_float_4901412.npz')\n",
    "data.keys()"
   ]
  },
  {
   "cell_type": "markdown",
   "metadata": {},
   "source": [
    "#### 1.4 Extract the temperature, pressure and salinity arrays to arrays T, S, P and mask out invalid data (the nan values from missing points)."
   ]
  },
  {
   "cell_type": "code",
   "execution_count": null,
   "metadata": {},
   "outputs": [],
   "source": [
    "list(data.keys())"
   ]
  },
  {
   "cell_type": "markdown",
   "metadata": {},
   "source": [
    "#### 1.5 Extract the date, lat, lon, and levels arrays. "
   ]
  },
  {
   "cell_type": "code",
   "execution_count": 5,
   "metadata": {},
   "outputs": [],
   "source": [
    "date = data['date']\n",
    "lat =data['lat']\n",
    "lon = data['lon']\n"
   ]
  },
  {
   "cell_type": "markdown",
   "metadata": {},
   "source": [
    "#### 1.5 Note the shapes of T, S and P compared to these arrays. How do they line up?"
   ]
  },
  {
   "cell_type": "code",
   "execution_count": 6,
   "metadata": {},
   "outputs": [],
   "source": [
    "T= data['T']\n",
    "S = data['S']\n",
    "P =  data['P']\n"
   ]
  },
  {
   "cell_type": "markdown",
   "metadata": {},
   "source": [
    "#### 1.6 Load the necessary package for plotting using pyplot from matplotlib."
   ]
  },
  {
   "cell_type": "code",
   "execution_count": 30,
   "metadata": {},
   "outputs": [],
   "source": [
    "from matplotlib import pyplot as plt\n",
    "%matplotlib inline"
   ]
  },
  {
   "cell_type": "markdown",
   "metadata": {},
   "source": [
    "#### 1.7 Make a 1 x 3 array of plots for each column of data in T, S and P. \n",
    "The vertical scale should be the `levels` data. Flip the veritcal axis direction so that levels increase downward on the plot. Each plot should have a line for each column of data. It will look messy.  Make sure you label the axes and put a title on each subplot."
   ]
  },
  {
   "cell_type": "code",
   "execution_count": 8,
   "metadata": {},
   "outputs": [],
   "source": [
    "a = np.array([T,S,P])"
   ]
  },
  {
   "cell_type": "markdown",
   "metadata": {},
   "source": [
    "#### 1.8 Compute the mean and standard deviation of each of T, S and P at each depth in `levels`."
   ]
  },
  {
   "cell_type": "code",
   "execution_count": 9,
   "metadata": {},
   "outputs": [
    {
     "data": {
      "text/plain": [
       "masked_array(data=[--, --, 3, 4, 5],\n",
       "             mask=[ True,  True, False, False, False],\n",
       "       fill_value=999999)"
      ]
     },
     "execution_count": 9,
     "metadata": {},
     "output_type": "execute_result"
    }
   ],
   "source": [
    "ar_w_mask = np.ma.masked_array([1, 2, 3, 4, 5],\n",
    "                        mask=[True, True, False, False, False])\n",
    "ar_w_mask"
   ]
  },
  {
   "cell_type": "code",
   "execution_count": 10,
   "metadata": {},
   "outputs": [
    {
     "data": {
      "text/plain": [
       "4.0"
      ]
     },
     "execution_count": 10,
     "metadata": {},
     "output_type": "execute_result"
    }
   ],
   "source": [
    "ar_w_mask.mean()"
   ]
  },
  {
   "cell_type": "code",
   "execution_count": 11,
   "metadata": {},
   "outputs": [
    {
     "data": {
      "text/plain": [
       "11.104955983298781"
      ]
     },
     "execution_count": 11,
     "metadata": {},
     "output_type": "execute_result"
    }
   ],
   "source": [
    "T_ma = np.ma.masked_invalid(T)\n",
    "T_ma.mean()\n"
   ]
  },
  {
   "cell_type": "code",
   "execution_count": 12,
   "metadata": {},
   "outputs": [
    {
     "data": {
      "text/plain": [
       "35.53375800851532"
      ]
     },
     "execution_count": 12,
     "metadata": {},
     "output_type": "execute_result"
    }
   ],
   "source": [
    "S_ma = np.ma.masked_invalid(S)\n",
    "S_ma.mean()"
   ]
  },
  {
   "cell_type": "code",
   "execution_count": 13,
   "metadata": {},
   "outputs": [
    {
     "data": {
      "text/plain": [
       "617.7636946613931"
      ]
     },
     "execution_count": 13,
     "metadata": {},
     "output_type": "execute_result"
    }
   ],
   "source": [
    "P_ma = np.ma.masked_invalid(P)\n",
    "P_ma.mean()"
   ]
  },
  {
   "cell_type": "code",
   "execution_count": 14,
   "metadata": {},
   "outputs": [],
   "source": [
    "T_std= T_ma.std()"
   ]
  },
  {
   "cell_type": "code",
   "execution_count": 15,
   "metadata": {},
   "outputs": [],
   "source": [
    "S_std= S_ma.std()\n",
    "P_std= P_ma.std()"
   ]
  },
  {
   "cell_type": "code",
   "execution_count": 16,
   "metadata": {},
   "outputs": [
    {
     "data": {
      "text/plain": [
       "2001.5"
      ]
     },
     "execution_count": 16,
     "metadata": {},
     "output_type": "execute_result"
    }
   ],
   "source": [
    "T = np.ma.masked_invalid(data['T'])\n",
    "S = np.ma.masked_invalid(data['S'])\n",
    "P = np.ma.masked_invalid(data['P'])\n",
    "P.max()"
   ]
  },
  {
   "cell_type": "markdown",
   "metadata": {},
   "source": [
    "#### 1.9 Now make a similar plot, but show only the mean T, S and P at each depth. Show error bars on each plot using the standard deviations. \n",
    " Again, make sure you label the axes and put a title on each subplot."
   ]
  },
  {
   "cell_type": "code",
   "execution_count": 31,
   "metadata": {},
   "outputs": [
    {
     "data": {
      "text/plain": [
       "<matplotlib.colorbar.Colorbar at 0x7fdf71031240>"
      ]
     },
     "execution_count": 31,
     "metadata": {},
     "output_type": "execute_result"
    },
    {
     "data": {
      "image/png": "[encoded data removed]",
      "text/plain": [
       "<Figure size 432x288 with 2 Axes>"
      ]
     },
     "metadata": {
      "needs_background": "light"
     },
     "output_type": "display_data"
    }
   ],
   "source": [
    "plt.scatter(S, T, c=P)\n",
    "plt.grid()\n",
    "plt.colorbar()"
   ]
  },
  {
   "cell_type": "markdown",
   "metadata": {
    "tags": []
   },
   "source": [
    "#### 1.10  Compute the mean and standard deviation of each of T, S and P for each time in `date`."
   ]
  },
  {
   "cell_type": "code",
   "execution_count": 23,
   "metadata": {},
   "outputs": [
    {
     "data": {
      "text/plain": [
       "masked_array(\n",
       "  data=[[18.974000930786133, 18.437000274658203, 19.099000930786133, ...,\n",
       "         19.113000869750977, 21.822999954223633, 20.131000518798828],\n",
       "        [18.740999221801758, 18.399999618530273, 19.082000732421875, ...,\n",
       "         18.472000122070312, 19.459999084472656, 20.125],\n",
       "        [18.3700008392334, 18.374000549316406, 19.065000534057617, ...,\n",
       "         18.229999542236328, 19.261999130249023, 20.07699966430664],\n",
       "        ...,\n",
       "        [3.7929999828338623, 3.813999891281128, 3.802000045776367, ...,\n",
       "         3.806999921798706, 3.811000108718872, 3.859999895095825],\n",
       "        [3.7639999389648438, 3.7780001163482666, 3.756999969482422, ...,\n",
       "         3.753999948501587, 3.746000051498413, 3.805999994277954],\n",
       "        [3.74399995803833, 3.746000051498413, 3.7249999046325684, ...,\n",
       "         --, 3.7139999866485596, --]],\n",
       "  mask=[[False, False, False, ..., False, False, False],\n",
       "        [False, False, False, ..., False, False, False],\n",
       "        [False, False, False, ..., False, False, False],\n",
       "        ...,\n",
       "        [False, False, False, ..., False, False, False],\n",
       "        [False, False, False, ..., False, False, False],\n",
       "        [False, False, False, ...,  True, False,  True]],\n",
       "  fill_value=1e+20)"
      ]
     },
     "execution_count": 23,
     "metadata": {},
     "output_type": "execute_result"
    }
   ],
   "source": [
    "T.std();\n",
    "T"
   ]
  },
  {
   "cell_type": "markdown",
   "metadata": {},
   "source": [
    "#### 1.11 Plot the mean T, S and P for each entry in *time*, now on a *3 x 1* subplot grid with time on the horizontal axis. Show error bars on each plot using the standard deviations."
   ]
  },
  {
   "cell_type": "code",
   "execution_count": null,
   "metadata": {},
   "outputs": [],
   "source": []
  },
  {
   "cell_type": "markdown",
   "metadata": {},
   "source": [
    "#### 1.12 Create a scatter plot of the positions of the ARGO float data.  Color the positions by the date. Add a grid overlay. \n",
    "Don't forget to label the axes!"
   ]
  },
  {
   "cell_type": "code",
   "execution_count": null,
   "metadata": {},
   "outputs": [],
   "source": []
  },
  {
   "cell_type": "markdown",
   "metadata": {},
   "source": [
    "## 2 Matrix  multiplication\n",
    "#### 2.1 Create a function called myMatrixMultiply that takes input matrices X and Y and computes their matrix product. \n",
    "\n",
    "*Matrix Multiplication.* In this exercise you will create two square matrices $A$ and $B$ with dimensions $n \\times n$. You will then use [matrix multiplication](https://en.wikipedia.org/wiki/Matrix_multiplication) to compute their product with the results being stored in matrix $C$. Thus, you will be computing the matrix equation $C = AB$. Note that matrix multiplication is different from element by element array multiplication. See the [wikipedia page](https://en.wikipedia.org/wiki/Matrix_multiplication) if you are unsure what matrix multiplication is.\n",
    "\n",
    "Use three nested `for` loops to *explicitly* perform the matrix multiplication. The inner most loop calculates element `C[i,j]` which is equal to the sum of `A[i,k]*B[k,j]` over all values of index `k` from `0` to `n-1`. The two outer loops iterate over `i` and `j`."
   ]
  },
  {
   "cell_type": "code",
   "execution_count": 3,
   "metadata": {},
   "outputs": [
    {
     "name": "stdout",
     "output_type": "stream",
     "text": [
      "[194, 145, 108]\n",
      "[114, 106, 102]\n",
      "[186, 169, 159]\n",
      "Exicution Time:  0.0002636909484863281 seconds ---\n"
     ]
    }
   ],
   "source": [
    "def myMatrixMultiply(A, B):\n",
    "     \n",
    "    N = len(A)\n",
    "    C = [list(range(1 + N * i, 1 + N * (i + 1))) for i in range(N)]\n",
    "\n",
    "    for i in range(len(A)):\n",
    "        # iterate through columns of Y\n",
    "        for j in range(len(B[0])):\n",
    "            # iterate through rows of Y\n",
    "            for k in range(len(B)):\n",
    "                C[i][j] += A[i][k] * B[k][j]  \n",
    "     \n",
    "    return C\n",
    "import time\n",
    "start_time = time.time()\n",
    "\n",
    "\n",
    "    \n",
    "A = [[12,7,3],\n",
    "    [4 ,5,6],\n",
    "    [7 ,8,9]]\n",
    "B = [[12,7,3],\n",
    "    [4 ,5,6],\n",
    "    [7 ,8,9]]\n",
    "\n",
    "for r in myMatrixMultiply(A, B):\n",
    "   print(r)\n",
    "\n",
    "print(\"Exicution Time:  %s seconds ---\" % (time.time() - start_time))  \n",
    " "
   ]
  },
  {
   "cell_type": "markdown",
   "metadata": {},
   "source": [
    "#### 2.2 Create ones() square matrices for A and B with n = 100. Use the `%timeit` function to compute the matrix product AB using your function `myMatrixMultiply`."
   ]
  },
  {
   "cell_type": "code",
   "execution_count": 8,
   "metadata": {},
   "outputs": [
    {
     "name": "stdout",
     "output_type": "stream",
     "text": [
      "Exicution Time:  0.143876314163208 seconds ---\n"
     ]
    }
   ],
   "source": [
    "def myMatrixMultiply(A, B):\n",
    "     \n",
    "    N = len(A)\n",
    "    C = [list(range(1 + N * i, 1 + N * (i + 1))) for i in range(N)]\n",
    "\n",
    "    for i in range(len(A)):\n",
    "        # iterate through columns of Y\n",
    "        for j in range(len(B[0])):\n",
    "            # iterate through rows of Y\n",
    "            for k in range(len(B)):\n",
    "                C[i][j] += A[i][k] * B[k][j]  \n",
    "     \n",
    "    return C\n",
    "import time\n",
    "start_time = time.time()\n",
    "\n",
    "\n",
    "    \n",
    "NUM = 1000\n",
    "A = [list(range(1 +NUM * i, 1 +NUM * (i + 1))) for i in range(NUM)]\n",
    "B = [list(range(1 + NUM* i, 1 + NUM * (i + 1))) for i in range(NUM)]\n",
    "\n",
    "print(\"Exicution Time:  %s seconds ---\" % (time.time() - start_time))  \n",
    " "
   ]
  },
  {
   "cell_type": "code",
   "execution_count": null,
   "metadata": {},
   "outputs": [],
   "source": []
  },
  {
   "cell_type": "markdown",
   "metadata": {},
   "source": [
    "#### 2.3 Now let's see how much faster Numpy's built in matrix multiplication routine is. \n",
    "In Numpy, matrix multiplication is done using the `dot()` function. Use the `%timeit` function to compute the matrix product AB for n = 100 using `dot()` and time it using the `%timeit` function.\n",
    "\n",
    "How much faster is using NumPy's `dot()` compared your `myMatrixMultiply` function? "
   ]
  },
  {
   "cell_type": "code",
   "execution_count": null,
   "metadata": {},
   "outputs": [],
   "source": [
    "def myMatrixMultiply(A, B):\n",
    "     \n",
    "    N = len(A)\n",
    "    C = [list(range(1 + N * i, 1 + N * (i + 1))) for i in range(N)]\n",
    "\n",
    "    C = A.dot(B)\n",
    "     \n",
    "    return C\n",
    "import time\n",
    "start_time = time.time()\n",
    "\n",
    "\n",
    "\n",
    "\n",
    "import numpy as np\n",
    "NUM = 10000\n",
    "A = np.array([list(range(1 +NUM * i, 1 +NUM * (i + 1))) for i in range(NUM)])\n",
    "B =  np.array([list(range(1 +NUM * i, 1 +NUM * (i + 1))) for i in range(NUM)])\n",
    "\n",
    "C = A.dot(B)\n",
    "\n",
    "\n",
    "print(\"Exicution Time:  %s seconds ---\" % (time.time() - start_time))  \n"
   ]
  },
  {
   "cell_type": "markdown",
   "metadata": {},
   "source": [
    "Now time how long the NumPy `dot()` version takes for n = 1000"
   ]
  },
  {
   "cell_type": "code",
   "execution_count": null,
   "metadata": {},
   "outputs": [],
   "source": []
  },
  {
   "cell_type": "markdown",
   "metadata": {},
   "source": [
    "And, finally, measure NumPy's `dot()` for n = 10000 (be patient, and defintely don't try this with `myMatrixMultiply` !)"
   ]
  },
  {
   "cell_type": "code",
   "execution_count": null,
   "metadata": {},
   "outputs": [],
   "source": []
  },
  {
   "cell_type": "markdown",
   "metadata": {},
   "source": [
    "Your results should demonstrate to you that the run time for matrix-matrix multiplication scales as a power law of `n`.\n",
    "\n",
    "Assuming that the run time of `myMatrixMultiply` is proportional to the cube of `n`, approximately how long would you expect the run time to be for n=10000 in the original Python version?\n"
   ]
  },
  {
   "cell_type": "code",
   "execution_count": null,
   "metadata": {},
   "outputs": [],
   "source": []
  },
  {
   "cell_type": "markdown",
   "metadata": {},
   "source": [
    "NumPy allows you to do computations that would be way to slow with only Python statements."
   ]
  }
 ],
 "metadata": {
  "kernelspec": {
   "display_name": "Python 3",
   "language": "python",
   "name": "python3"
  },
  "language_info": {
   "codemirror_mode": {
    "name": "ipython",
    "version": 3
   },
   "file_extension": ".py",
   "mimetype": "text/x-python",
   "name": "python",
   "nbconvert_exporter": "python",
   "pygments_lexer": "ipython3",
   "version": "3.7.3"
  }
 },
 "nbformat": 4,
 "nbformat_minor": 4
}
